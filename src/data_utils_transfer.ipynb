{
 "cells": [
  {
   "cell_type": "code",
   "execution_count": 1,
   "metadata": {},
   "outputs": [],
   "source": [
    "import cv2, os, random, shutil\n",
    "import numpy as np"
   ]
  },
  {
   "cell_type": "code",
   "execution_count": 3,
   "metadata": {
    "scrolled": false
   },
   "outputs": [
    {
     "name": "stdout",
     "output_type": "stream",
     "text": [
      "transfering data ...\n",
      "block size: 3000\n",
      "block size: 3000\n",
      "block size: 3000\n",
      "block size: 3000\n",
      "block size: 3000\n",
      "block size: 3000\n",
      "block size: 3000\n",
      "block size: 3000\n",
      "block size: 3000\n",
      "block size: 3000\n",
      "block size: 3000\n",
      "block size: 3000\n",
      "block size: 3000\n",
      "block size: 3000\n",
      "block size: 3000\n",
      "block size: 3000\n",
      "block size: 3000\n",
      "finished!\n",
      "last block size: 223\n"
     ]
    }
   ],
   "source": [
    "image_dir = '../dataset/faces/'\n",
    "file_dir = '../data/animate/'\n",
    "image_cnt = 0\n",
    "file_cnt = 0\n",
    "\n",
    "data = []\n",
    "\n",
    "shutil.rmtree(file_dir)\n",
    "os.mkdir(file_dir)\n",
    "\n",
    "print ('transfering data ...')\n",
    "\n",
    "for root, dirs, files in os.walk(image_dir):\n",
    "    random.shuffle(files)\n",
    "    for file in files:\n",
    "        if file.endswith('.jpg'):\n",
    "            img = cv2.imread(os.path.join(root, file))\n",
    "            img = img / 127.5 - 1\n",
    "            data.append(img)\n",
    "            image_cnt += 1\n",
    "            \n",
    "            if image_cnt % 3000 == 0:\n",
    "                data = np.array(data)\n",
    "                print ('block size: {}'.format(data.shape[0]))\n",
    "                np.save(file_dir + '{}.npy'.format(str(file_cnt).zfill(3)), data)\n",
    "                data = []\n",
    "                file_cnt += 1\n",
    "\n",
    "if image_cnt % 3000 != 0:\n",
    "    data = np.array(data)\n",
    "    np.save(file_dir + '{}.npy'.format(str(file_cnt).zfill(3)), data)\n",
    "    file_cnt += 1\n",
    "\n",
    "print ('finished!')\n",
    "print ('last block size: {}'.format(data.shape[0]))"
   ]
  },
  {
   "cell_type": "code",
   "execution_count": 11,
   "metadata": {},
   "outputs": [
    {
     "name": "stdout",
     "output_type": "stream",
     "text": [
      "transfering data ...\n",
      "block size: 3000\n",
      "block size: 3000\n",
      "block size: 3000\n",
      "block size: 3000\n",
      "finished!\n",
      "last block size: 1233\n"
     ]
    }
   ],
   "source": [
    "image_dir = '../dataset/lfw/lfw_mtcnnpy_160/'\n",
    "file_dir = '../data/lfw/'\n",
    "image_cnt = 0\n",
    "file_cnt = 0\n",
    "\n",
    "data = []\n",
    "\n",
    "shutil.rmtree(file_dir)\n",
    "os.mkdir(file_dir)\n",
    "\n",
    "print ('transfering data ...')\n",
    "\n",
    "for root, dirs, files in os.walk(image_dir):\n",
    "    random.shuffle(files)\n",
    "    for file in files:\n",
    "        if file.endswith('.png'):\n",
    "            img = cv2.imread(os.path.join(root, file))\n",
    "            img = cv2.resize(img, (96, 96))\n",
    "            img = img / 127.5 - 1\n",
    "            data.append(img)\n",
    "            image_cnt += 1\n",
    "            if image_cnt % 3000 == 0:\n",
    "                data = np.array(data)\n",
    "                print ('block size: {}'.format(data.shape[0]))\n",
    "                np.save(file_dir + '{}.npy'.format(str(file_cnt).zfill(3)), data)\n",
    "                data = []\n",
    "                file_cnt += 1\n",
    "\n",
    "if image_cnt % 3000 != 0:\n",
    "    data = np.array(data)\n",
    "    np.save(file_dir + '{}.npy'.format(str(file_cnt).zfill(3)), data)\n",
    "    file_cnt += 1\n",
    "\n",
    "print ('finished!')\n",
    "print ('last block size: {}'.format(data.shape[0]))"
   ]
  },
  {
   "cell_type": "code",
   "execution_count": null,
   "metadata": {},
   "outputs": [],
   "source": [
    "print (data.shape)"
   ]
  }
 ],
 "metadata": {
  "kernelspec": {
   "display_name": "Python 3",
   "language": "python",
   "name": "python3"
  },
  "language_info": {
   "codemirror_mode": {
    "name": "ipython",
    "version": 3
   },
   "file_extension": ".py",
   "mimetype": "text/x-python",
   "name": "python",
   "nbconvert_exporter": "python",
   "pygments_lexer": "ipython3",
   "version": "3.6.4"
  }
 },
 "nbformat": 4,
 "nbformat_minor": 2
}
