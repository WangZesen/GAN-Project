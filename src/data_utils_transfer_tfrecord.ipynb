{
 "cells": [
  {
   "cell_type": "code",
   "execution_count": 1,
   "metadata": {},
   "outputs": [
    {
     "name": "stderr",
     "output_type": "stream",
     "text": [
      "/home/shared/anaconda3/lib/python3.6/site-packages/h5py/__init__.py:36: FutureWarning: Conversion of the second argument of issubdtype from `float` to `np.floating` is deprecated. In future, it will be treated as `np.float64 == np.dtype(float).type`.\n",
      "  from ._conv import register_converters as _register_converters\n"
     ]
    }
   ],
   "source": [
    "import cv2, os, time\n",
    "import numpy as np\n",
    "import tensorflow as tf\n"
   ]
  },
  {
   "cell_type": "code",
   "execution_count": null,
   "metadata": {},
   "outputs": [],
   "source": []
  },
  {
   "cell_type": "code",
   "execution_count": 2,
   "metadata": {},
   "outputs": [],
   "source": [
    "data_dir = '../dataset/animate_tfrecord/'\n",
    "save_dir = '../data/animate_label_twingan/'\n",
    "n_files = 128\n",
    "split_size = 5000"
   ]
  },
  {
   "cell_type": "code",
   "execution_count": 3,
   "metadata": {
    "scrolled": false
   },
   "outputs": [
    {
     "name": "stdout",
     "output_type": "stream",
     "text": [
      "{'long_hair': 0, 'short_hair': 1, 'blush': 2, 'smile': 3, 'blonde_hair': 4, 'blue_eyes': 5, 'brown_hair': 6, 'open_mouth': 7, 'hat': 8, 'red_eyes': 9, 'black_hair': 10, 'ribbon': 11, 'twintails': 12, 'brown_eyes': 13, 'blue_hair': 14, 'green_eyes': 15, 'purple_eyes': 16, 'pink_hair': 17, 'purple_hair': 18, 'closed_eyes': 19, 'ponytail': 20, 'green_hair': 21, 'simple_background': 22, 'red_hair': 23, 'yellow_eyes': 24, 'very_long_hair': 25, 'glasses': 26, 'silver_hair': 27, 'one_eye_closed': 28, 'ahoge': 29, 'male': 30, 'white_hair': 31, 'earrings': 32, 'tongue': 33, 'pink_eyes': 34, 'aqua_eyes': 35, 'black_eyes': 36, 'orange_hair': 37, 'aqua_hair': 38, 'grin': 39, 'multicolored_hair': 40, 'dark_skin': 41, 'tongue_out': 42, 'grey_hair': 43, 'drill_hair': 44, 'short_twintails': 45, 'orange_eyes': 46, 'facial_hair': 47, 'grey_eyes': 48, 'two-tone_hair': 49, 'tan': 50}\n"
     ]
    }
   ],
   "source": [
    "# Retrieve Tags\n",
    "\n",
    "n_tag = 0\n",
    "tag_map = {}\n",
    "\n",
    "with open(os.path.join(data_dir, 'animate_face_tag_list.txt'), 'r') as f:\n",
    "    lines = f.readlines()\n",
    "    n_tag = len(lines)\n",
    "    for i in range(n_tag):\n",
    "        tag_map[lines[i].split('\\t')[1]] = i\n",
    "\n",
    "print (tag_map)"
   ]
  },
  {
   "cell_type": "code",
   "execution_count": 4,
   "metadata": {},
   "outputs": [],
   "source": [
    "def _parse_function(example_proto):\n",
    "    keys_to_features = {\n",
    "        'image/encoded': tf.FixedLenFeature(\n",
    "            (), tf.string, default_value=''),\n",
    "        'image/format': tf.FixedLenFeature(\n",
    "            (), tf.string, default_value='jpeg'),\n",
    "        'image/class/label': tf.VarLenFeature(\n",
    "            dtype=tf.int64),\n",
    "        'image/class/text': tf.FixedLenFeature(\n",
    "            [], dtype=tf.string, default_value=''),\n",
    "        'image/filename': tf.FixedLenFeature(\n",
    "            [], dtype=tf.string, default_value=''),\n",
    "    }\n",
    "    parsed_features = tf.parse_example(example_proto, keys_to_features)\n",
    "    return parsed_features['image/encoded'], parsed_features['image/class/text']"
   ]
  },
  {
   "cell_type": "code",
   "execution_count": 5,
   "metadata": {},
   "outputs": [],
   "source": [
    "def _transfer_label(label, n_tag, tag_map):\n",
    "    one_hot = [0. for i in range(n_tag)]\n",
    "    labels = label.split(', ')   \n",
    "    \n",
    "    for i in range(len(labels)):\n",
    "        one_hot[tag_map[labels[i]]] = 1.\n",
    "    return one_hot"
   ]
  },
  {
   "cell_type": "code",
   "execution_count": 6,
   "metadata": {},
   "outputs": [],
   "source": [
    "dataset = None\n",
    "\n",
    "\n",
    "filenames = [data_dir + 'train-{}-of-00128'.format(str(i).zfill(5)) for i in range(n_files)]\n",
    "dataset = tf.data.TFRecordDataset(filenames)\n",
    "    \n",
    "sess = tf.Session()\n"
   ]
  },
  {
   "cell_type": "code",
   "execution_count": 7,
   "metadata": {
    "scrolled": true
   },
   "outputs": [
    {
     "name": "stderr",
     "output_type": "stream",
     "text": [
      "/home/shared/anaconda3/lib/python3.6/site-packages/ipykernel_launcher.py:24: DeprecationWarning: The binary mode of fromstring is deprecated, as it behaves surprisingly on unicode inputs. Use frombuffer instead\n"
     ]
    },
    {
     "name": "stdout",
     "output_type": "stream",
     "text": [
      "(5000, 96, 96, 3)\n",
      "0.32220891869149304 -0.7596269875073646\n",
      "(5000, 96, 96, 3)\n",
      "0.32220891869149304 -0.7596269875073646\n",
      "(5000, 96, 96, 3)\n",
      "0.32220891869149304 -0.7596269875073646\n",
      "(5000, 96, 96, 3)\n",
      "0.32220891869149304 -0.7596269875073646\n",
      "(5000, 96, 96, 3)\n",
      "0.32220891869149304 -0.7596269875073646\n",
      "(2243, 96, 96, 3)\n",
      "(2243, 51)\n"
     ]
    }
   ],
   "source": [
    "batch_dataset = dataset.batch(100)\n",
    "iterator = batch_dataset.make_one_shot_iterator()\n",
    "next_element = iterator.get_next()\n",
    "\n",
    "data_cnt = 0\n",
    "file_cnt = 0\n",
    "\n",
    "data = []\n",
    "label = []\n",
    "\n",
    "# sum_rgb = [0., 0., 0.]\n",
    "mean_rgb = np.array([172.83672573366928, 175.73611140584845, 193.70488181437796])\n",
    "mean_rgb = mean_rgb / 255.\n",
    "\n",
    "while True:\n",
    "    try:\n",
    "        batch_data = sess.run(next_element)\n",
    "        metadata = _parse_function(batch_data)\n",
    "\n",
    "        image_data = metadata[0].eval(session = sess)\n",
    "        label_data = metadata[1].eval(session = sess)\n",
    "        \n",
    "        for i in range(len(image_data)):\n",
    "            nparr = np.fromstring(image_data[i], np.uint8)\n",
    "            img_np = cv2.imdecode(nparr, cv2.IMREAD_COLOR)\n",
    "            img_np = cv2.resize(img_np, (96, 96))\n",
    "            \n",
    "            img_np = img_np / 255 - mean_rgb\n",
    "            \n",
    "            \n",
    "            # for j in range(3):\n",
    "            #    sum_rgb[j] += img_np[:, :, j].mean()\n",
    "            \n",
    "            data.append(img_np)\n",
    "\n",
    "            label.append(_transfer_label(label_data[i].decode('utf-8'), n_tag, tag_map))\n",
    "\n",
    "            data_cnt += 1\n",
    "\n",
    "    except:\n",
    "        break\n",
    "    \n",
    "    if len(data) == split_size:\n",
    "        data = np.array(data)\n",
    "        label = np.array(label)\n",
    "        print (data.shape)\n",
    "        print (np.max(data), np.min(data))\n",
    "        np.save(save_dir + '{}_image.npy'.format(str(file_cnt).zfill(3)), data)\n",
    "        np.save(save_dir + '{}_label.npy'.format(str(file_cnt).zfill(3)), label)\n",
    "        file_cnt += 1\n",
    "        data = []\n",
    "        label = []\n",
    "\n",
    "if len(data) > 0:\n",
    "    data = np.array(data)\n",
    "    label = np.array(label)\n",
    "    print (data.shape)\n",
    "    print (label.shape)\n",
    "    np.save(save_dir + '{}_image.npy'.format(str(file_cnt).zfill(3)), data)\n",
    "    np.save(save_dir + '{}_label.npy'.format(str(file_cnt).zfill(3)), label)\n",
    "\n",
    "    \n",
    "#for i in range(3):\n",
    "#    sum_rgb[i] = sum_rgb[i] / data_cnt"
   ]
  },
  {
   "cell_type": "code",
   "execution_count": 10,
   "metadata": {},
   "outputs": [
    {
     "name": "stdout",
     "output_type": "stream",
     "text": [
      "[172.83672573366928, 175.73611140584845, 193.70488181437796]\n"
     ]
    }
   ],
   "source": [
    "print (sum_rgb)"
   ]
  },
  {
   "cell_type": "code",
   "execution_count": null,
   "metadata": {},
   "outputs": [],
   "source": []
  }
 ],
 "metadata": {
  "kernelspec": {
   "display_name": "Python 3",
   "language": "python",
   "name": "python3"
  },
  "language_info": {
   "codemirror_mode": {
    "name": "ipython",
    "version": 3
   },
   "file_extension": ".py",
   "mimetype": "text/x-python",
   "name": "python",
   "nbconvert_exporter": "python",
   "pygments_lexer": "ipython3",
   "version": "3.6.4"
  }
 },
 "nbformat": 4,
 "nbformat_minor": 2
}
