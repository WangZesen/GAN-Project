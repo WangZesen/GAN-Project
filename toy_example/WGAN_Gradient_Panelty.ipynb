{
  "nbformat": 4,
  "nbformat_minor": 0,
  "metadata": {
    "colab": {
      "name": "WGAN_Gradient_Panelty.ipynb",
      "version": "0.3.2",
      "provenance": [],
      "collapsed_sections": []
    },
    "kernelspec": {
      "display_name": "Python 3",
      "language": "python",
      "name": "python3"
    },
    "accelerator": "GPU"
  },
  "cells": [
    {
      "metadata": {
        "id": "bM8aqPTXKu0b",
        "colab_type": "code",
        "colab": {}
      },
      "cell_type": "code",
      "source": [
        "import tensorflow as tf\n",
        "import numpy as np\n",
        "import matplotlib.pyplot as plt"
      ],
      "execution_count": 0,
      "outputs": []
    },
    {
      "metadata": {
        "id": "nR3XApmnKu0f",
        "colab_type": "code",
        "colab": {
          "base_uri": "https://localhost:8080/",
          "height": 84
        },
        "outputId": "7de72164-627d-43df-9a12-77dc6cfb754b"
      },
      "cell_type": "code",
      "source": [
        "from tensorflow.examples.tutorials.mnist import input_data\n",
        "mnist = input_data.read_data_sets(\"/tmp/data/\", one_hot=False)"
      ],
      "execution_count": 3,
      "outputs": [
        {
          "output_type": "stream",
          "text": [
            "Extracting /tmp/data/train-images-idx3-ubyte.gz\n",
            "Extracting /tmp/data/train-labels-idx1-ubyte.gz\n",
            "Extracting /tmp/data/t10k-images-idx3-ubyte.gz\n",
            "Extracting /tmp/data/t10k-labels-idx1-ubyte.gz\n"
          ],
          "name": "stdout"
        }
      ]
    },
    {
      "metadata": {
        "id": "fsYxkQkKKu0k",
        "colab_type": "code",
        "colab": {}
      },
      "cell_type": "code",
      "source": [
        "# Hyperparameter\n",
        "batch_size = 64\n",
        "z_dim = 128\n",
        "learning_rate_gen = 5e-5\n",
        "learning_rate_dis = 5e-5\n",
        "max_step = 20000\n",
        "n_dis = 5\n",
        "# lambda (gradient panelty)\n",
        "lam = 10."
      ],
      "execution_count": 0,
      "outputs": []
    },
    {
      "metadata": {
        "id": "9luy93cXKu0o",
        "colab_type": "code",
        "colab": {}
      },
      "cell_type": "code",
      "source": [
        "# Define Generator Network\n",
        "def generator(x, reuse = False):\n",
        "    with tf.variable_scope('generator', reuse = reuse):\n",
        "        fc1 = tf.layers.dense(x, \n",
        "                              units = 5 * 5 * 256, \n",
        "                              activation = tf.nn.leaky_relu)\n",
        "        fc1 = tf.layers.batch_normalization(fc1)\n",
        "        fc1 = tf.reshape(fc1, [-1, 5, 5, 256])\n",
        "\n",
        "        # First Convolutional Layer\n",
        "        conv1 = tf.layers.conv2d_transpose(fc1, \n",
        "                                           filters = 128, \n",
        "                                           kernel_size = 5,\n",
        "                                           strides = 2,\n",
        "                                           activation = tf.nn.leaky_relu)\n",
        "        conv1 = tf.layers.batch_normalization(conv1)\n",
        "\n",
        "        # Second Convolutional Layer\n",
        "        conv2 = tf.layers.conv2d(conv1, \n",
        "                                 filters = 128, \n",
        "                                 kernel_size = 3, \n",
        "                                 padding = 'same',\n",
        "                                 activation = tf.nn.leaky_relu)\n",
        "        conv2 = tf.layers.batch_normalization(conv2)\n",
        "\n",
        "\n",
        "        # Third Convolutional Layer (Output Layer with tanh activation)\n",
        "        output = tf.layers.conv2d_transpose(conv2, \n",
        "                                            filters = 1, \n",
        "                                            kernel_size = 4, \n",
        "                                            strides = 2,\n",
        "                                            activation = tf.nn.tanh)\n",
        "        \n",
        "        return output"
      ],
      "execution_count": 0,
      "outputs": []
    },
    {
      "metadata": {
        "id": "QBMd-g4yKu0q",
        "colab_type": "code",
        "colab": {}
      },
      "cell_type": "code",
      "source": [
        "# Define Discriminator Network\n",
        "def discriminator(x, reuse = False):\n",
        "    with tf.variable_scope('discriminator', reuse = reuse):\n",
        "        # First Convolutional Layer\n",
        "        conv1 = tf.layers.conv2d(x, \n",
        "                                 filters = 256, \n",
        "                                 kernel_size = 4, \n",
        "                                 strides = 2,\n",
        "                                 activation = tf.nn.leaky_relu)\n",
        "        conv1 = tf.layers.batch_normalization(conv1)\n",
        "        \n",
        "        conv2 = tf.layers.conv2d(conv1, \n",
        "                                 filters = 128, \n",
        "                                 kernel_size = 3, \n",
        "                                 strides = 1, \n",
        "                                 padding = 'same', \n",
        "                                 activation = tf.nn.leaky_relu)\n",
        "        \n",
        "        conv2 = tf.layers.batch_normalization(conv2, momentum = 0.9)\n",
        "        \n",
        "        output = tf.layers.flatten(conv2)\n",
        "        \n",
        "        output = tf.layers.dense(output, \n",
        "                                 units = 1)\n",
        "        return output"
      ],
      "execution_count": 0,
      "outputs": []
    },
    {
      "metadata": {
        "id": "5kgnvKE3Ku0t",
        "colab_type": "code",
        "colab": {}
      },
      "cell_type": "code",
      "source": [
        "# Input\n",
        "gen_input = tf.placeholder(tf.float32, shape = [None, z_dim], name = 'gen_input')\n",
        "dis_input = tf.placeholder(tf.float32, shape = [None, 28, 28, 1], name = 'dis_input')\n",
        "fake_input = generator(gen_input)\n",
        "\n",
        "# Logits\n",
        "true_logit = discriminator(dis_input)\n",
        "fake_logit = discriminator(fake_input, reuse = True)\n",
        "dis_loss = tf.reduce_mean(fake_logit - true_logit)\n",
        "gen_loss = tf.reduce_mean(- fake_logit)\n",
        "\n",
        "# Variables\n",
        "gen_var = tf.get_collection(tf.GraphKeys.TRAINABLE_VARIABLES, scope='generator')\n",
        "dis_var = tf.get_collection(tf.GraphKeys.TRAINABLE_VARIABLES, scope='discriminator')\n",
        "\n",
        "## Gradient Penalty\n",
        "\n",
        "# Generate Interpolated Samples\n",
        "uniform_dist = tf.contrib.distributions.Uniform(low=0., high=1.)\n",
        "alpha = uniform_dist.sample((batch_size, 1, 1, 1))\n",
        "interpolated = dis_input + alpha * (fake_input - dis_input)\n",
        "\n",
        "# Calculate Gradients\n",
        "int_logit = discriminator(interpolated, reuse = True)\n",
        "gradients = tf.gradients(int_logit, [interpolated, ])[0]\n",
        "gradients_l2 = tf.sqrt(tf.reduce_sum(tf.square(gradients), axis = [1, 2, 3]))\n",
        "\n",
        "# Panelty\n",
        "gradient_penalty = lam * tf.reduce_mean((gradients_l2 - 1) ** 2)\n",
        "dis_loss += gradient_penalty\n",
        "\n",
        "# Optimizer (RMSProp)\n",
        "gen_opt = tf.train.RMSPropOptimizer(learning_rate_gen).minimize(gen_loss, var_list = gen_var)\n",
        "dis_opt = tf.train.RMSPropOptimizer(learning_rate_dis).minimize(dis_loss, var_list = dis_var)\n",
        "\n",
        "# Initialization\n",
        "init = tf.global_variables_initializer()"
      ],
      "execution_count": 0,
      "outputs": []
    },
    {
      "metadata": {
        "id": "9oKJm4k-Ku0y",
        "colab_type": "code",
        "colab": {
          "base_uri": "https://localhost:8080/",
          "height": 1817
        },
        "outputId": "29be7991-8eec-4cc6-a0be-238912774547"
      },
      "cell_type": "code",
      "source": [
        "sess = tf.Session()\n",
        "sess.run(tf.global_variables_initializer())\n",
        "\n",
        "for i in range(max_step):\n",
        "    \n",
        "    for j in range(n_dis):\n",
        "        batch_x, _ = mnist.train.next_batch(batch_size)\n",
        "        batch_x = np.reshape(batch_x, newshape=[-1, 28, 28, 1])\n",
        "        z = np.random.normal(0., 1., size=[batch_size, z_dim])\n",
        "        feed_dict = {gen_input: z, dis_input: batch_x}\n",
        "        sess.run([dis_opt], feed_dict = feed_dict)\n",
        "        \n",
        "    batch_x, _ = mnist.train.next_batch(batch_size)\n",
        "    batch_x = np.reshape(batch_x, newshape=[-1, 28, 28, 1])\n",
        "    z = np.random.normal(0., 1., size=[batch_size, z_dim])\n",
        "    feed_dict = {gen_input: z, dis_input: batch_x}\n",
        "    _, d_loss, g_loss, p = sess.run([gen_opt, dis_loss, gen_loss, gradient_penalty], feed_dict = feed_dict)\n",
        "    if i % 200 == 0:\n",
        "        print ('step {}: {}, {}, {}'.format(i, d_loss, g_loss, p))"
      ],
      "execution_count": 8,
      "outputs": [
        {
          "output_type": "stream",
          "text": [
            "step 0: 8.67988109588623, 3.702970570884645e-05, 8.65532112121582\n",
            "step 200: -7.244150161743164, -1.0009503364562988, 0.9515646696090698\n",
            "step 400: -5.312089443206787, -9.259130477905273, 0.7441104650497437\n",
            "step 600: -4.058737754821777, -16.906526565551758, 0.38236820697784424\n",
            "step 800: -3.0577986240386963, -19.627933502197266, 0.2637513279914856\n",
            "step 1000: -2.664249897003174, -19.350088119506836, 0.25065433979034424\n",
            "step 1200: -2.650815010070801, -14.784847259521484, 0.16094915568828583\n",
            "step 1400: -2.3050575256347656, -11.606674194335938, 0.15002095699310303\n",
            "step 1600: -2.253739356994629, -10.665695190429688, 0.26159340143203735\n",
            "step 1800: -2.467317581176758, -10.163230895996094, 0.22030535340309143\n",
            "step 2000: -2.3082289695739746, -8.942683219909668, 0.2512784004211426\n",
            "step 2200: -2.189283609390259, -8.98878002166748, 0.19522474706172943\n",
            "step 2400: -1.8762521743774414, -7.5268778800964355, 0.19874447584152222\n",
            "step 2600: -1.9820380210876465, -7.553017616271973, 0.17239853739738464\n",
            "step 2800: -2.070855140686035, -6.9331817626953125, 0.14892059564590454\n",
            "step 3000: -1.724345326423645, -7.424341201782227, 0.15186306834220886\n",
            "step 3200: -1.8584873676300049, -6.144805431365967, 0.18263819813728333\n",
            "step 3400: -1.8730026483535767, -5.342822074890137, 0.1766132414340973\n",
            "step 3600: -1.839794635772705, -5.947903633117676, 0.11228734254837036\n",
            "step 3800: -1.492905616760254, -6.25515079498291, 0.15063762664794922\n",
            "step 4000: -1.5609278678894043, -6.0849151611328125, 0.1804020255804062\n",
            "step 4200: -1.5973365306854248, -4.414881706237793, 0.18984900414943695\n",
            "step 4400: -1.3556437492370605, -6.080498218536377, 0.1870993971824646\n",
            "step 4600: -1.5179332494735718, -4.422700881958008, 0.13219115138053894\n",
            "step 4800: -1.5295847654342651, -5.342999458312988, 0.1151898130774498\n",
            "step 5000: -1.526641845703125, -4.75152587890625, 0.16628578305244446\n",
            "step 5200: -1.3643848896026611, -4.307486534118652, 0.11427172273397446\n",
            "step 5400: -1.3013181686401367, -4.533410549163818, 0.10730042308568954\n",
            "step 5600: -1.4571605920791626, -3.6656885147094727, 0.10334517061710358\n",
            "step 5800: -1.2130974531173706, -4.387495040893555, 0.12896457314491272\n",
            "step 6000: -1.2853730916976929, -3.1127665042877197, 0.0838569924235344\n",
            "step 6200: -1.294167160987854, -4.4191741943359375, 0.12539125978946686\n",
            "step 6400: -1.3354434967041016, -2.0329909324645996, 0.11852309107780457\n",
            "step 6600: -1.3876017332077026, -1.6846246719360352, 0.10016648471355438\n",
            "step 6800: -1.4273959398269653, -2.9368896484375, 0.07554344087839127\n",
            "step 7000: -1.1766101121902466, -2.919112205505371, 0.10281072556972504\n",
            "step 7200: -1.336618185043335, -2.2328290939331055, 0.12419289350509644\n",
            "step 7400: -1.2001153230667114, -2.0856947898864746, 0.11123310774564743\n",
            "step 7600: -1.2721080780029297, -1.5702922344207764, 0.07989846169948578\n",
            "step 7800: -1.3007636070251465, -1.095924973487854, 0.09659506380558014\n",
            "step 8000: -1.2029669284820557, -1.9596202373504639, 0.0952032208442688\n",
            "step 8200: -1.3600260019302368, -2.082723617553711, 0.07851974666118622\n",
            "step 8400: -1.0745395421981812, -1.9636633396148682, 0.09705622494220734\n",
            "step 8600: -1.1317540407180786, -1.5417790412902832, 0.06982100009918213\n",
            "step 8800: -1.1487572193145752, -0.8052420616149902, 0.06329652667045593\n",
            "step 9000: -0.9987043738365173, -2.2816202640533447, 0.13982565701007843\n",
            "step 9200: -1.2077981233596802, -0.05400785058736801, 0.08360341191291809\n",
            "step 9400: -1.2129254341125488, -0.5065394639968872, 0.09572409093379974\n",
            "step 9600: -1.214526653289795, -0.2383357435464859, 0.09103536605834961\n",
            "step 9800: -1.1466881036758423, -1.739370346069336, 0.1503356546163559\n",
            "step 10000: -1.0778067111968994, -1.0788581371307373, 0.08346429467201233\n",
            "step 10200: -1.2491945028305054, -0.5153681039810181, 0.08774224668741226\n",
            "step 10400: -1.1589646339416504, -0.5462232828140259, 0.07675501704216003\n",
            "step 10600: -0.9984917640686035, 0.7429776191711426, 0.08815431594848633\n",
            "step 10800: -1.2440791130065918, 0.2652599811553955, 0.07854984700679779\n",
            "step 11000: -1.1377776861190796, 0.775218665599823, 0.07340705394744873\n",
            "step 11200: -1.007478952407837, -0.997014582157135, 0.09741035103797913\n",
            "step 11400: -1.0779623985290527, 0.21871735155582428, 0.043877072632312775\n",
            "step 11600: -1.1698071956634521, 0.25088369846343994, 0.08885332942008972\n",
            "step 11800: -1.2388200759887695, -0.3217933177947998, 0.049600567668676376\n",
            "step 12000: -1.1867640018463135, 0.6525601148605347, 0.07359559834003448\n",
            "step 12200: -0.9225913286209106, 0.5498645901679993, 0.08033990114927292\n",
            "step 12400: -1.1333481073379517, 0.6678639650344849, 0.06801195442676544\n",
            "step 12600: -1.0196564197540283, 1.03895902633667, 0.06662344932556152\n",
            "step 12800: -1.0515211820602417, 0.4255366325378418, 0.06884154677391052\n",
            "step 13000: -1.0267752408981323, 0.8377254605293274, 0.06561742722988129\n",
            "step 13200: -0.9694539904594421, 1.2031716108322144, 0.043444715440273285\n",
            "step 13400: -1.02009117603302, 0.31479763984680176, 0.06332015991210938\n",
            "step 13600: -1.1018338203430176, 1.5575807094573975, 0.08841152489185333\n",
            "step 13800: -1.1203347444534302, 2.1390328407287598, 0.05164548009634018\n",
            "step 14000: -1.0826749801635742, 0.6781557202339172, 0.08515912294387817\n",
            "step 14200: -0.9506915211677551, 2.0309081077575684, 0.12367302179336548\n",
            "step 14400: -0.9574982523918152, 3.333688735961914, 0.09516160935163498\n",
            "step 14600: -0.9583372473716736, 2.0377418994903564, 0.07707316428422928\n",
            "step 14800: -1.0205063819885254, 0.6705845594406128, 0.07714489102363586\n",
            "step 15000: -0.9871846437454224, 1.9396952390670776, 0.07025337964296341\n",
            "step 15200: -0.8876081705093384, 1.5462408065795898, 0.05604306235909462\n",
            "step 15400: -1.0736640691757202, 1.5530376434326172, 0.07919774204492569\n",
            "step 15600: -1.1054506301879883, 1.7552738189697266, 0.06777499616146088\n",
            "step 15800: -0.9524708390235901, 1.800967812538147, 0.07042591273784637\n",
            "step 16000: -0.9508984088897705, 2.431896209716797, 0.10142555832862854\n",
            "step 16200: -0.9254451394081116, 1.836799144744873, 0.05419246107339859\n",
            "step 16400: -0.9265596270561218, 1.716336965560913, 0.05982660502195358\n",
            "step 16600: -1.0936154127120972, 1.2894482612609863, 0.06922078132629395\n",
            "step 16800: -1.0222578048706055, 0.39010748267173767, 0.0681571513414383\n",
            "step 17000: -0.9058014154434204, 0.9965945482254028, 0.08415000140666962\n",
            "step 17200: -0.9859334230422974, 1.1123799085617065, 0.0695798248052597\n",
            "step 17400: -0.9541990756988525, 1.120599627494812, 0.09166859090328217\n",
            "step 17600: -1.0896365642547607, 0.8588491678237915, 0.07755228877067566\n",
            "step 17800: -1.0958360433578491, 0.5046055912971497, 0.08288852870464325\n",
            "step 18000: -0.996759295463562, -0.2509739398956299, 0.0412994846701622\n",
            "step 18200: -1.0189043283462524, 1.1706734895706177, 0.04929380863904953\n",
            "step 18400: -0.8089072704315186, -1.3169806003570557, 0.06616661697626114\n",
            "step 18600: -1.0938146114349365, -1.036795735359192, 0.04584641009569168\n",
            "step 18800: -0.916954517364502, -1.724707007408142, 0.0722680389881134\n",
            "step 19000: -0.8877460360527039, -0.256721168756485, 0.07069818675518036\n",
            "step 19200: -0.8634836077690125, -0.46037936210632324, 0.06256236881017685\n",
            "step 19400: -0.9271620512008667, -0.48334115743637085, 0.05753229558467865\n",
            "step 19600: -0.9497675895690918, 0.04036593437194824, 0.042742736637592316\n",
            "step 19800: -0.8682234883308411, -2.2253365516662598, 0.13283604383468628\n"
          ],
          "name": "stdout"
        }
      ]
    },
    {
      "metadata": {
        "id": "Jki1JEscKu01",
        "colab_type": "code",
        "colab": {
          "base_uri": "https://localhost:8080/",
          "height": 304
        },
        "outputId": "cecc11fa-ce12-49b3-bacc-d041e7645c91"
      },
      "cell_type": "code",
      "source": [
        "# Generate images from noise, using the generator network.\n",
        "f, a = plt.subplots(4, 10, figsize=(10, 4))\n",
        "for i in range(10):\n",
        "    # Noise input.\n",
        "    z = np.random.uniform(-1., 1., size=[4, z_dim])\n",
        "    g = sess.run(fake_input, feed_dict={gen_input: z})\n",
        "    g = (g + 1) / 2\n",
        "    for j in range(4):\n",
        "        # Generate image from noise. Extend to 3 channels for matplot figure.\n",
        "        img = np.reshape(np.repeat(g[j][:, :, np.newaxis], 3, axis=2),\n",
        "                         newshape=(28, 28, 3))\n",
        "        a[j][i].imshow(img)\n",
        "\n",
        "f.show()\n",
        "plt.draw()"
      ],
      "execution_count": 11,
      "outputs": [
        {
          "output_type": "stream",
          "text": [
            "/usr/local/lib/python3.6/dist-packages/matplotlib/figure.py:418: UserWarning: matplotlib is currently using a non-GUI backend, so cannot show the figure\n",
            "  \"matplotlib is currently using a non-GUI backend, \"\n"
          ],
          "name": "stderr"
        },
        {
          "output_type": "display_data",
          "data": {
            "image/png": "[encoded data removed]",
            "text/plain": [
              "<matplotlib.figure.Figure at 0x7f41ffdcf7f0>"
            ]
          },
          "metadata": {
            "tags": []
          }
        }
      ]
    },
    {
      "metadata": {
        "id": "5-hB-pPLKu05",
        "colab_type": "code",
        "colab": {}
      },
      "cell_type": "code",
      "source": [
        ""
      ],
      "execution_count": 0,
      "outputs": []
    }
  ]
}